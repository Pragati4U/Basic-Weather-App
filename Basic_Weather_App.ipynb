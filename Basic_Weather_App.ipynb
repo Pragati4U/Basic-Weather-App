{
 "cells": [
  {
   "cell_type": "code",
   "execution_count": 13,
   "id": "a6c8255b",
   "metadata": {},
   "outputs": [
    {
     "name": "stderr",
     "output_type": "stream",
     "text": [
      "C:\\Users\\praga\\AppData\\Local\\Temp\\ipykernel_9252\\807278336.py:6: DeprecationWarning: datetime.datetime.utcfromtimestamp() is deprecated and scheduled for removal in a future version. Use timezone-aware objects to represent datetimes in UTC: datetime.datetime.fromtimestamp(timestamp, datetime.UTC).\n",
      "  local_time = datetime.utcfromtimestamp(utc_with_tz + tz_offset)\n"
     ]
    }
   ],
   "source": [
    "from tkinter import *\n",
    "import requests\n",
    "from datetime import datetime, timezone, timedelta\n",
    "\n",
    "def time_format_for_location(utc_with_tz, tz_offset):\n",
    "    local_time = datetime.utcfromtimestamp(utc_with_tz + tz_offset)\n",
    "    return local_time.strftime('%H:%M:%S')\n",
    "\n",
    "def showWeather():\n",
    "    api_key = \"b2990e29e97dfa72afb3d275c9f8f479\"  # Replace with your OpenWeatherMap API key\n",
    "    city_name = city_value.get().strip()\n",
    "\n",
    "    weather_url = 'http://api.openweathermap.org/data/2.5/weather?q=' + city_name + '&appid=' + api_key\n",
    "    response = requests.get(weather_url)\n",
    "    weather_info = response.json()\n",
    "\n",
    "    tfield.delete(\"1.0\", \"end\")\n",
    "\n",
    "    if response.status_code == 200:\n",
    "        kelvin = 273.15  # Value of kelvin\n",
    "\n",
    "        temp = int(weather_info['main']['temp'] - kelvin)\n",
    "        feels_like_temp = int(weather_info['main']['feels_like'] - kelvin)\n",
    "        pressure = weather_info['main']['pressure']\n",
    "        humidity = weather_info['main']['humidity']\n",
    "        wind_speed = weather_info['wind']['speed'] * 3.6\n",
    "        timezone_offset = weather_info['timezone']\n",
    "        cloudy = weather_info['clouds']['all']\n",
    "        description = weather_info['weather'][0]['description']\n",
    "        sunrise = time_format_for_location(weather_info['sys']['sunrise'], timezone_offset)\n",
    "        sunset = time_format_for_location(weather_info['sys']['sunset'], timezone_offset)\n",
    "\n",
    "        weather = f\"\\nWeather of: {city_name}\\nTemperature (Celsius): {temp}°\\nFeels like in (Celsius): {feels_like_temp}°\\nPressure: {pressure} hPa\\nHumidity: {humidity}%\\nSunrise at {sunrise} and Sunset at {sunset}\\nCloud: {cloudy}%\\nInfo: {description}\"\n",
    "    else:\n",
    "        weather = f\"\\n\\tWeather for '{city_name}' not found!\\n\\tKindly Enter valid City Name !!\"\n",
    "\n",
    "    tfield.insert(INSERT, weather)\n",
    "\n",
    "root = Tk()\n",
    "root.geometry(\"400x400\")\n",
    "root.resizable(0, 0)\n",
    "root.title(\"Weather App\")\n",
    "\n",
    "city_value = StringVar()\n",
    "\n",
    "city_head = Label(root, text='Enter City Name', font='Arial 12 bold')\n",
    "city_head.pack(pady=10)\n",
    "\n",
    "inp_city = Entry(root, textvariable=city_value, width=24, font='Arial 14 bold')\n",
    "inp_city.pack()\n",
    "\n",
    "Button(root, command=showWeather, text=\"Check Weather\", font=\"Arial 10\", bg='lightblue', fg='black',\n",
    "       activebackground=\"teal\", padx=5, pady=5).pack(pady=20)\n",
    "\n",
    "weather_now = Label(root, text=\"The Weather is:\", font='arial 12 bold')\n",
    "weather_now.pack(pady=10)\n",
    "\n",
    "tfield = Text(root, width=46, height=10)\n",
    "tfield.pack()\n",
    "\n",
    "root.mainloop()\n"
   ]
  }
 ],
 "metadata": {
  "kernelspec": {
   "display_name": "Python 3 (ipykernel)",
   "language": "python",
   "name": "python3"
  },
  "language_info": {
   "codemirror_mode": {
    "name": "ipython",
    "version": 3
   },
   "file_extension": ".py",
   "mimetype": "text/x-python",
   "name": "python",
   "nbconvert_exporter": "python",
   "pygments_lexer": "ipython3",
   "version": "3.12.1"
  }
 },
 "nbformat": 4,
 "nbformat_minor": 5
}
